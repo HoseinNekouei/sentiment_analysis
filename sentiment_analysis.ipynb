{
  "nbformat": 4,
  "nbformat_minor": 0,
  "metadata": {
    "colab": {
      "provenance": [],
      "authorship_tag": "ABX9TyNZgwI5KvRodU3bQla0bvVM",
      "include_colab_link": true
    },
    "kernelspec": {
      "name": "python3",
      "display_name": "Python 3"
    },
    "language_info": {
      "name": "python"
    }
  },
  "cells": [
    {
      "cell_type": "markdown",
      "metadata": {
        "id": "view-in-github",
        "colab_type": "text"
      },
      "source": [
        "<a href=\"https://colab.research.google.com/github/HoseinNekouei/sentiment_analysis/blob/main/sentiment_analysis.ipynb\" target=\"_parent\"><img src=\"https://colab.research.google.com/assets/colab-badge.svg\" alt=\"Open In Colab\"/></a>"
      ]
    },
    {
      "cell_type": "code",
      "source": [
        "import math\n",
        "import torch\n",
        "from torch.optim import AdamW\n",
        "from torch.utils.data import DataLoader, TensorDataset\n",
        "from sklearn.model_selection import KFold\n",
        "from transformers import AutoTokenizer, AutoModelForSequenceClassification"
      ],
      "metadata": {
        "id": "AfELiPnbJiwU"
      },
      "execution_count": 2,
      "outputs": []
    },
    {
      "cell_type": "code",
      "execution_count": 8,
      "metadata": {
        "id": "NTovIHxWFURh"
      },
      "outputs": [],
      "source": [
        "# Constants\n",
        "EPOCHS = 2\n",
        "BATCH_SIZE = 32\n",
        "CHECKPOINT = 'cardiffnlp/twitter-roberta-base-sentiment-latest'\n",
        "DEVICE = 'cuda' if torch.cuda.is_available() else 'cpu'\n",
        "\n",
        "# Load tokenizer and model\n",
        "def load_model_and_tokenizer(checkpoint):\n",
        "    \"\"\"Load the tokenizer and model from the specified checkpoint.\"\"\"\n",
        "    tokenizer = AutoTokenizer.from_pretrained(checkpoint)\n",
        "    model = AutoModelForSequenceClassification.from_pretrained(checkpoint, device_map='auto')\n",
        "    model.to(DEVICE)\n",
        "    return tokenizer, model\n",
        "\n",
        "# Tokenize texts\n",
        "def tokenize_texts(tokenizer, texts):\n",
        "    \"\"\"Tokenize a list of texts using the provided tokenizer.\"\"\"\n",
        "    if not isinstance(texts, list):\n",
        "        texts = texts.tolist()\n",
        "\n",
        "    encodings = tokenizer(\n",
        "        texts,\n",
        "        padding=True,\n",
        "        max_length=256,\n",
        "        truncation=True,\n",
        "        return_tensors='pt'\n",
        "    )\n",
        "    return encodings\n",
        "\n",
        "# Prepare datasets and dataloaders\n",
        "def prepare_dataloaders(input_ids, attention_mask, labels, batch_size, train_idx, test_idx):\n",
        "    \"\"\"Prepare training and test dataloaders.\"\"\"\n",
        "    train_dataset = TensorDataset(input_ids[train_idx], attention_mask[train_idx], labels[train_idx])\n",
        "    test_dataset = TensorDataset(input_ids[test_idx], attention_mask[test_idx], labels[test_idx])\n",
        "\n",
        "    train_loader = DataLoader(train_dataset, batch_size=batch_size, shuffle=True)\n",
        "    test_loader = DataLoader(test_dataset, batch_size=batch_size)\n",
        "    return train_loader, test_loader\n",
        "\n",
        "# Train the model\n",
        "def train_model(model, train_loader, optimizer, epochs, batch_size):\n",
        "    \"\"\"Train the model for the specified number of epochs.\"\"\"\n",
        "    model.train()\n",
        "    for epoch in range(epochs):\n",
        "        for i, batch in enumerate(train_loader):\n",
        "            optimizer.zero_grad()\n",
        "            input_ids_batch, attention_mask_batch, labels_batch = [b.to(DEVICE) for b in batch]\n",
        "            outputs = model(input_ids_batch, attention_mask=attention_mask_batch, labels=labels_batch)\n",
        "            loss = outputs.loss\n",
        "            loss.backward()\n",
        "            optimizer.step()\n",
        "\n",
        "            if (i + 1) % 100 == 0:\n",
        "                denominator = math.ceil(len(train_loader.dataset) / batch_size)\n",
        "                print(f'[Epoch: {epoch + 1}] -> Batch: [{i + 1}/{denominator}]')\n",
        "\n",
        "        print(f'[Epoch: {epoch + 1}] -> Batch: [{denominator}/{denominator}]')\n",
        "\n",
        "# Evaluate the model\n",
        "def evaluate_model(model, test_loader):\n",
        "    \"\"\"Evaluate the model on the validation set and return accuracy.\"\"\"\n",
        "    model.eval()\n",
        "    correct = 0\n",
        "    total = 0\n",
        "    with torch.no_grad():\n",
        "        for batch in test_loader:\n",
        "            input_ids_batch, attention_mask_batch, labels_batch = [b.to(DEVICE) for b in batch]\n",
        "            outputs = model(input_ids_batch, attention_mask=attention_mask_batch)\n",
        "            preds = torch.argmax(outputs.logits, dim=1)\n",
        "            correct += torch.sum(preds == labels_batch).item()\n",
        "            total += len(labels_batch)\n",
        "    accuracy = correct / total\n",
        "    return accuracy\n",
        "\n",
        "# Main function for k-fold cross-validation\n",
        "def kfold_cross_validation(train_data, checkpoint, epochs, batch_size, n_splits=5):\n",
        "    \"\"\"Perform k-fold cross-validation on the provided dataset.\"\"\"\n",
        "    # Load tokenizer and model\n",
        "    tokenizer, model = load_model_and_tokenizer(checkpoint)\n",
        "    optimizer = AdamW(model.parameters(), lr=5e-5)\n",
        "\n",
        "    # Tokenize texts and prepare labels\n",
        "    texts = train_data['text']\n",
        "    labels = torch.tensor(train_data['labels'].tolist()).to(DEVICE)\n",
        "    encodings = tokenize_texts(tokenizer, texts)\n",
        "    input_ids = encodings['input_ids'].to(DEVICE)\n",
        "    attention_mask = encodings['attention_mask'].to(DEVICE)\n",
        "\n",
        "    # Initialize KFold\n",
        "    kfold = KFold(n_splits=n_splits, shuffle=True, random_state=42)\n",
        "    accuracy_scores = []\n",
        "\n",
        "    # Perform k-fold cross-validation\n",
        "    for fold, (train_idx, test_idx) in enumerate(kfold.split(input_ids)):\n",
        "        print(f\"Fold {fold + 1}...\")\n",
        "\n",
        "        # Prepare dataloaders\n",
        "        train_loader, test_loader = prepare_dataloaders(input_ids, attention_mask, labels, batch_size, train_idx, test_idx)\n",
        "\n",
        "        # Train the model\n",
        "        train_model(model, train_loader, optimizer, epochs, batch_size)\n",
        "\n",
        "        # Evaluate the model\n",
        "        fold_accuracy = evaluate_model(model, test_loader)\n",
        "        accuracy_scores.append(fold_accuracy)\n",
        "        print(f\"Validation Accuracy: {fold_accuracy:.4f}\")\n",
        "        print('=' * 40)\n",
        "\n",
        "    # Calculate and print final results\n",
        "    accuracy_scores = torch.tensor(accuracy_scores)\n",
        "    print(f\"Cross-validation accuracy scores: {accuracy_scores}\")\n",
        "    print(f\"Mean accuracy: {torch.mean(accuracy_scores):.4f}\")\n",
        "    print(f\"Standard deviation: {torch.std(accuracy_scores):.4f}\")\n",
        "\n",
        "    # Save the model\n",
        "    model_save_path = '/content/drive/MyDrive/Projects/Sentiment_Analysis/aspect_generation/senti_model_batch32.pt'\n",
        "    torch.save(model, model_save_path)\n",
        "    print(f\"Model saved to {model_save_path}!\")"
      ]
    },
    {
      "cell_type": "code",
      "source": [
        "if __name__ == \"__main__\":\n",
        "    import pandas as pd\n",
        "    from google.colab import drive\n",
        "    drive.mount('/content/drive')\n",
        "\n",
        "    !mkdir /content/dataset\n",
        "    !cp /content/drive/MyDrive/Projects/Sentiment_Analysis/aspect_generation/Augmented_dataset_US_airline_Tweet.csv /content/dataset\n",
        "\n",
        "    file_path= '/content/drive/MyDrive/Projects/Sentiment_Analysis/aspect_generation/Augmented_dataset_US_airline_Tweet.csv'\n",
        "    # Load your training data\n",
        "    train_data = pd.read_csv(file_path, nrows=5)\n",
        "\n",
        "    # Perform k-fold cross-validation\n",
        "    kfold_cross_validation(train_data, CHECKPOINT, EPOCHS, BATCH_SIZE)"
      ],
      "metadata": {
        "id": "qE1b_OWVIp-N",
        "outputId": "0bf51ca4-e8dc-4970-fc39-10744ad220d6",
        "colab": {
          "base_uri": "https://localhost:8080/",
          "height": 422
        }
      },
      "execution_count": 9,
      "outputs": [
        {
          "output_type": "stream",
          "name": "stdout",
          "text": [
            "Drive already mounted at /content/drive; to attempt to forcibly remount, call drive.mount(\"/content/drive\", force_remount=True).\n",
            "mkdir: cannot create directory ‘/content/dataset’: File exists\n"
          ]
        },
        {
          "output_type": "stream",
          "name": "stderr",
          "text": [
            "Some weights of the model checkpoint at cardiffnlp/twitter-roberta-base-sentiment-latest were not used when initializing RobertaForSequenceClassification: ['roberta.pooler.dense.bias', 'roberta.pooler.dense.weight']\n",
            "- This IS expected if you are initializing RobertaForSequenceClassification from the checkpoint of a model trained on another task or with another architecture (e.g. initializing a BertForSequenceClassification model from a BertForPreTraining model).\n",
            "- This IS NOT expected if you are initializing RobertaForSequenceClassification from the checkpoint of a model that you expect to be exactly identical (initializing a BertForSequenceClassification model from a BertForSequenceClassification model).\n"
          ]
        },
        {
          "output_type": "error",
          "ename": "ValueError",
          "evalue": "too many dimensions 'str'",
          "traceback": [
            "\u001b[0;31m---------------------------------------------------------------------------\u001b[0m",
            "\u001b[0;31mValueError\u001b[0m                                Traceback (most recent call last)",
            "\u001b[0;32m<ipython-input-9-fe61c603af7a>\u001b[0m in \u001b[0;36m<cell line: 0>\u001b[0;34m()\u001b[0m\n\u001b[1;32m     12\u001b[0m \u001b[0;34m\u001b[0m\u001b[0m\n\u001b[1;32m     13\u001b[0m     \u001b[0;31m# Perform k-fold cross-validation\u001b[0m\u001b[0;34m\u001b[0m\u001b[0;34m\u001b[0m\u001b[0m\n\u001b[0;32m---> 14\u001b[0;31m     \u001b[0mkfold_cross_validation\u001b[0m\u001b[0;34m(\u001b[0m\u001b[0mtrain_data\u001b[0m\u001b[0;34m,\u001b[0m \u001b[0mCHECKPOINT\u001b[0m\u001b[0;34m,\u001b[0m \u001b[0mEPOCHS\u001b[0m\u001b[0;34m,\u001b[0m \u001b[0mBATCH_SIZE\u001b[0m\u001b[0;34m)\u001b[0m\u001b[0;34m\u001b[0m\u001b[0;34m\u001b[0m\u001b[0m\n\u001b[0m",
            "\u001b[0;32m<ipython-input-8-ba00c4c2aa46>\u001b[0m in \u001b[0;36mkfold_cross_validation\u001b[0;34m(train_data, checkpoint, epochs, batch_size, n_splits)\u001b[0m\n\u001b[1;32m     82\u001b[0m     \u001b[0;31m# Tokenize texts and prepare labels\u001b[0m\u001b[0;34m\u001b[0m\u001b[0;34m\u001b[0m\u001b[0m\n\u001b[1;32m     83\u001b[0m     \u001b[0mtexts\u001b[0m \u001b[0;34m=\u001b[0m \u001b[0mtrain_data\u001b[0m\u001b[0;34m[\u001b[0m\u001b[0;34m'text'\u001b[0m\u001b[0;34m]\u001b[0m\u001b[0;34m\u001b[0m\u001b[0;34m\u001b[0m\u001b[0m\n\u001b[0;32m---> 84\u001b[0;31m     \u001b[0mlabels\u001b[0m \u001b[0;34m=\u001b[0m \u001b[0mtorch\u001b[0m\u001b[0;34m.\u001b[0m\u001b[0mtensor\u001b[0m\u001b[0;34m(\u001b[0m\u001b[0mtrain_data\u001b[0m\u001b[0;34m[\u001b[0m\u001b[0;34m'labels'\u001b[0m\u001b[0;34m]\u001b[0m\u001b[0;34m.\u001b[0m\u001b[0mtolist\u001b[0m\u001b[0;34m(\u001b[0m\u001b[0;34m)\u001b[0m\u001b[0;34m)\u001b[0m\u001b[0;34m.\u001b[0m\u001b[0mto\u001b[0m\u001b[0;34m(\u001b[0m\u001b[0mDEVICE\u001b[0m\u001b[0;34m)\u001b[0m\u001b[0;34m\u001b[0m\u001b[0;34m\u001b[0m\u001b[0m\n\u001b[0m\u001b[1;32m     85\u001b[0m     \u001b[0mencodings\u001b[0m \u001b[0;34m=\u001b[0m \u001b[0mtokenize_texts\u001b[0m\u001b[0;34m(\u001b[0m\u001b[0mtokenizer\u001b[0m\u001b[0;34m,\u001b[0m \u001b[0mtexts\u001b[0m\u001b[0;34m)\u001b[0m\u001b[0;34m\u001b[0m\u001b[0;34m\u001b[0m\u001b[0m\n\u001b[1;32m     86\u001b[0m     \u001b[0minput_ids\u001b[0m \u001b[0;34m=\u001b[0m \u001b[0mencodings\u001b[0m\u001b[0;34m[\u001b[0m\u001b[0;34m'input_ids'\u001b[0m\u001b[0;34m]\u001b[0m\u001b[0;34m.\u001b[0m\u001b[0mto\u001b[0m\u001b[0;34m(\u001b[0m\u001b[0mDEVICE\u001b[0m\u001b[0;34m)\u001b[0m\u001b[0;34m\u001b[0m\u001b[0;34m\u001b[0m\u001b[0m\n",
            "\u001b[0;31mValueError\u001b[0m: too many dimensions 'str'"
          ]
        }
      ]
    },
    {
      "cell_type": "code",
      "source": [],
      "metadata": {
        "id": "ImDqQiyUKRcB"
      },
      "execution_count": null,
      "outputs": []
    }
  ]
}