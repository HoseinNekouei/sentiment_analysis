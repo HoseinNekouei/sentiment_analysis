{
  "cells": [
    {
      "cell_type": "markdown",
      "metadata": {
        "id": "view-in-github",
        "colab_type": "text"
      },
      "source": [
        "<a href=\"https://colab.research.google.com/github/HoseinNekouei/sentiment_analysis/blob/main/text_aspect_generation_.ipynb\" target=\"_parent\"><img src=\"https://colab.research.google.com/assets/colab-badge.svg\" alt=\"Open In Colab\"/></a>"
      ]
    },
    {
      "cell_type": "markdown",
      "metadata": {
        "id": "Q-smsfOhs_7L"
      },
      "source": [
        "# **Import Libreries and important requirment**"
      ]
    },
    {
      "cell_type": "code",
      "execution_count": 3,
      "metadata": {
        "id": "8w1R_F5ZdLB3",
        "outputId": "761a902c-18ba-41f1-cf13-2d121a3e100e",
        "colab": {
          "base_uri": "https://localhost:8080/"
        }
      },
      "outputs": [
        {
          "output_type": "stream",
          "name": "stdout",
          "text": [
            "Collecting datasets\n",
            "  Downloading datasets-3.4.1-py3-none-any.whl.metadata (19 kB)\n",
            "Requirement already satisfied: filelock in /usr/local/lib/python3.11/dist-packages (from datasets) (3.18.0)\n",
            "Requirement already satisfied: numpy>=1.17 in /usr/local/lib/python3.11/dist-packages (from datasets) (2.0.2)\n",
            "Requirement already satisfied: pyarrow>=15.0.0 in /usr/local/lib/python3.11/dist-packages (from datasets) (18.1.0)\n",
            "Collecting dill<0.3.9,>=0.3.0 (from datasets)\n",
            "  Downloading dill-0.3.8-py3-none-any.whl.metadata (10 kB)\n",
            "Requirement already satisfied: pandas in /usr/local/lib/python3.11/dist-packages (from datasets) (2.2.2)\n",
            "Requirement already satisfied: requests>=2.32.2 in /usr/local/lib/python3.11/dist-packages (from datasets) (2.32.3)\n",
            "Requirement already satisfied: tqdm>=4.66.3 in /usr/local/lib/python3.11/dist-packages (from datasets) (4.67.1)\n",
            "Collecting xxhash (from datasets)\n",
            "  Downloading xxhash-3.5.0-cp311-cp311-manylinux_2_17_x86_64.manylinux2014_x86_64.whl.metadata (12 kB)\n",
            "Collecting multiprocess<0.70.17 (from datasets)\n",
            "  Downloading multiprocess-0.70.16-py311-none-any.whl.metadata (7.2 kB)\n",
            "Collecting fsspec<=2024.12.0,>=2023.1.0 (from fsspec[http]<=2024.12.0,>=2023.1.0->datasets)\n",
            "  Downloading fsspec-2024.12.0-py3-none-any.whl.metadata (11 kB)\n",
            "Requirement already satisfied: aiohttp in /usr/local/lib/python3.11/dist-packages (from datasets) (3.11.14)\n",
            "Requirement already satisfied: huggingface-hub>=0.24.0 in /usr/local/lib/python3.11/dist-packages (from datasets) (0.29.3)\n",
            "Requirement already satisfied: packaging in /usr/local/lib/python3.11/dist-packages (from datasets) (24.2)\n",
            "Requirement already satisfied: pyyaml>=5.1 in /usr/local/lib/python3.11/dist-packages (from datasets) (6.0.2)\n",
            "Requirement already satisfied: aiohappyeyeballs>=2.3.0 in /usr/local/lib/python3.11/dist-packages (from aiohttp->datasets) (2.6.1)\n",
            "Requirement already satisfied: aiosignal>=1.1.2 in /usr/local/lib/python3.11/dist-packages (from aiohttp->datasets) (1.3.2)\n",
            "Requirement already satisfied: attrs>=17.3.0 in /usr/local/lib/python3.11/dist-packages (from aiohttp->datasets) (25.3.0)\n",
            "Requirement already satisfied: frozenlist>=1.1.1 in /usr/local/lib/python3.11/dist-packages (from aiohttp->datasets) (1.5.0)\n",
            "Requirement already satisfied: multidict<7.0,>=4.5 in /usr/local/lib/python3.11/dist-packages (from aiohttp->datasets) (6.2.0)\n",
            "Requirement already satisfied: propcache>=0.2.0 in /usr/local/lib/python3.11/dist-packages (from aiohttp->datasets) (0.3.0)\n",
            "Requirement already satisfied: yarl<2.0,>=1.17.0 in /usr/local/lib/python3.11/dist-packages (from aiohttp->datasets) (1.18.3)\n",
            "Requirement already satisfied: typing-extensions>=3.7.4.3 in /usr/local/lib/python3.11/dist-packages (from huggingface-hub>=0.24.0->datasets) (4.12.2)\n",
            "Requirement already satisfied: charset-normalizer<4,>=2 in /usr/local/lib/python3.11/dist-packages (from requests>=2.32.2->datasets) (3.4.1)\n",
            "Requirement already satisfied: idna<4,>=2.5 in /usr/local/lib/python3.11/dist-packages (from requests>=2.32.2->datasets) (3.10)\n",
            "Requirement already satisfied: urllib3<3,>=1.21.1 in /usr/local/lib/python3.11/dist-packages (from requests>=2.32.2->datasets) (2.3.0)\n",
            "Requirement already satisfied: certifi>=2017.4.17 in /usr/local/lib/python3.11/dist-packages (from requests>=2.32.2->datasets) (2025.1.31)\n",
            "Requirement already satisfied: python-dateutil>=2.8.2 in /usr/local/lib/python3.11/dist-packages (from pandas->datasets) (2.8.2)\n",
            "Requirement already satisfied: pytz>=2020.1 in /usr/local/lib/python3.11/dist-packages (from pandas->datasets) (2025.1)\n",
            "Requirement already satisfied: tzdata>=2022.7 in /usr/local/lib/python3.11/dist-packages (from pandas->datasets) (2025.1)\n",
            "Requirement already satisfied: six>=1.5 in /usr/local/lib/python3.11/dist-packages (from python-dateutil>=2.8.2->pandas->datasets) (1.17.0)\n",
            "Downloading datasets-3.4.1-py3-none-any.whl (487 kB)\n",
            "\u001b[2K   \u001b[90m━━━━━━━━━━━━━━━━━━━━━━━━━━━━━━━━━━━━━━━━\u001b[0m \u001b[32m487.4/487.4 kB\u001b[0m \u001b[31m28.3 MB/s\u001b[0m eta \u001b[36m0:00:00\u001b[0m\n",
            "\u001b[?25hDownloading dill-0.3.8-py3-none-any.whl (116 kB)\n",
            "\u001b[2K   \u001b[90m━━━━━━━━━━━━━━━━━━━━━━━━━━━━━━━━━━━━━━━━\u001b[0m \u001b[32m116.3/116.3 kB\u001b[0m \u001b[31m10.0 MB/s\u001b[0m eta \u001b[36m0:00:00\u001b[0m\n",
            "\u001b[?25hDownloading fsspec-2024.12.0-py3-none-any.whl (183 kB)\n",
            "\u001b[2K   \u001b[90m━━━━━━━━━━━━━━━━━━━━━━━━━━━━━━━━━━━━━━━━\u001b[0m \u001b[32m183.9/183.9 kB\u001b[0m \u001b[31m18.8 MB/s\u001b[0m eta \u001b[36m0:00:00\u001b[0m\n",
            "\u001b[?25hDownloading multiprocess-0.70.16-py311-none-any.whl (143 kB)\n",
            "\u001b[2K   \u001b[90m━━━━━━━━━━━━━━━━━━━━━━━━━━━━━━━━━━━━━━━━\u001b[0m \u001b[32m143.5/143.5 kB\u001b[0m \u001b[31m14.5 MB/s\u001b[0m eta \u001b[36m0:00:00\u001b[0m\n",
            "\u001b[?25hDownloading xxhash-3.5.0-cp311-cp311-manylinux_2_17_x86_64.manylinux2014_x86_64.whl (194 kB)\n",
            "\u001b[2K   \u001b[90m━━━━━━━━━━━━━━━━━━━━━━━━━━━━━━━━━━━━━━━━\u001b[0m \u001b[32m194.8/194.8 kB\u001b[0m \u001b[31m17.7 MB/s\u001b[0m eta \u001b[36m0:00:00\u001b[0m\n",
            "\u001b[?25hInstalling collected packages: xxhash, fsspec, dill, multiprocess, datasets\n",
            "  Attempting uninstall: fsspec\n",
            "    Found existing installation: fsspec 2025.3.0\n",
            "    Uninstalling fsspec-2025.3.0:\n",
            "      Successfully uninstalled fsspec-2025.3.0\n",
            "\u001b[31mERROR: pip's dependency resolver does not currently take into account all the packages that are installed. This behaviour is the source of the following dependency conflicts.\n",
            "gcsfs 2025.3.0 requires fsspec==2025.3.0, but you have fsspec 2024.12.0 which is incompatible.\n",
            "torch 2.6.0+cu124 requires nvidia-cublas-cu12==12.4.5.8; platform_system == \"Linux\" and platform_machine == \"x86_64\", but you have nvidia-cublas-cu12 12.5.3.2 which is incompatible.\n",
            "torch 2.6.0+cu124 requires nvidia-cuda-cupti-cu12==12.4.127; platform_system == \"Linux\" and platform_machine == \"x86_64\", but you have nvidia-cuda-cupti-cu12 12.5.82 which is incompatible.\n",
            "torch 2.6.0+cu124 requires nvidia-cuda-nvrtc-cu12==12.4.127; platform_system == \"Linux\" and platform_machine == \"x86_64\", but you have nvidia-cuda-nvrtc-cu12 12.5.82 which is incompatible.\n",
            "torch 2.6.0+cu124 requires nvidia-cuda-runtime-cu12==12.4.127; platform_system == \"Linux\" and platform_machine == \"x86_64\", but you have nvidia-cuda-runtime-cu12 12.5.82 which is incompatible.\n",
            "torch 2.6.0+cu124 requires nvidia-cudnn-cu12==9.1.0.70; platform_system == \"Linux\" and platform_machine == \"x86_64\", but you have nvidia-cudnn-cu12 9.3.0.75 which is incompatible.\n",
            "torch 2.6.0+cu124 requires nvidia-cufft-cu12==11.2.1.3; platform_system == \"Linux\" and platform_machine == \"x86_64\", but you have nvidia-cufft-cu12 11.2.3.61 which is incompatible.\n",
            "torch 2.6.0+cu124 requires nvidia-curand-cu12==10.3.5.147; platform_system == \"Linux\" and platform_machine == \"x86_64\", but you have nvidia-curand-cu12 10.3.6.82 which is incompatible.\n",
            "torch 2.6.0+cu124 requires nvidia-cusolver-cu12==11.6.1.9; platform_system == \"Linux\" and platform_machine == \"x86_64\", but you have nvidia-cusolver-cu12 11.6.3.83 which is incompatible.\n",
            "torch 2.6.0+cu124 requires nvidia-cusparse-cu12==12.3.1.170; platform_system == \"Linux\" and platform_machine == \"x86_64\", but you have nvidia-cusparse-cu12 12.5.1.3 which is incompatible.\n",
            "torch 2.6.0+cu124 requires nvidia-nvjitlink-cu12==12.4.127; platform_system == \"Linux\" and platform_machine == \"x86_64\", but you have nvidia-nvjitlink-cu12 12.5.82 which is incompatible.\u001b[0m\u001b[31m\n",
            "\u001b[0mSuccessfully installed datasets-3.4.1 dill-0.3.8 fsspec-2024.12.0 multiprocess-0.70.16 xxhash-3.5.0\n"
          ]
        }
      ],
      "source": [
        "!pip install datasets"
      ]
    },
    {
      "cell_type": "code",
      "source": [
        "from datasets import load_dataset"
      ],
      "metadata": {
        "id": "DL9Fs7X5EV5w"
      },
      "execution_count": 4,
      "outputs": []
    },
    {
      "cell_type": "code",
      "source": [
        "# Standard library imports\n",
        "import os\n",
        "import re\n",
        "import logging\n",
        "from typing import Optional\n",
        "from google.colab import output\n",
        "from google.colab import userdata\n",
        "\n",
        "# Third-party library imports\n",
        "import torch\n",
        "import pandas as pd\n",
        "import seaborn as sns\n",
        "import matplotlib.pyplot as plt\n",
        "import nltk\n",
        "from typing import Optional\n",
        "from datasets import Dataset\n",
        "\n",
        "# Initialize logging\n",
        "logging.basicConfig(level=logging.INFO, format='%(asctime)s - %(levelname)s - %(message)s')\n",
        "\n",
        "userdata.get('HF_TOKEN')\n",
        "\n",
        "from google.colab import drive\n",
        "drive.mount('/content/drive')"
      ],
      "metadata": {
        "colab": {
          "base_uri": "https://localhost:8080/"
        },
        "id": "-Vg9oSdkyOB8",
        "outputId": "966658a9-d468-4582-81ac-7f81052cf4b6"
      },
      "execution_count": 5,
      "outputs": [
        {
          "output_type": "stream",
          "name": "stdout",
          "text": [
            "Mounted at /content/drive\n"
          ]
        }
      ]
    },
    {
      "cell_type": "markdown",
      "metadata": {
        "id": "6HQlVPPTtImJ"
      },
      "source": [
        "# **Load Dataset and Pre-Processing data**"
      ]
    },
    {
      "cell_type": "code",
      "source": [
        "# visualize Data variation\n",
        "class DataVisualizer:\n",
        "    @staticmethod\n",
        "    def visualize_sentiment(data):\n",
        "        sentiment_count = data.labels.value_counts()\n",
        "        colors = sns.color_palette('pastel', len(sentiment_count))\n",
        "        if len(sentiment_count)== 3:\n",
        "            labels = ['Negative', 'Neutral', 'Positive']\n",
        "            explode = [0.01, 0.01, 0.01]\n",
        "        else:\n",
        "            labels = ['Negative', 'Positive']\n",
        "            explode = [0.01, 0.01]\n",
        "\n",
        "        plt.figure(figsize=(4, 4))\n",
        "        sentiment_count.plot(\n",
        "            kind='pie',\n",
        "            colors=colors,\n",
        "            labels=labels,\n",
        "            explode=explode,\n",
        "            shadow=True,\n",
        "            autopct='%.2f',\n",
        "            fontsize=12,\n",
        "        )\n",
        "        plt.title('Total Tweets for Each Sentiment')\n",
        "        plt.ylabel(' ')\n",
        "        plt.show()"
      ],
      "metadata": {
        "id": "PZPHhMlyy7MV"
      },
      "execution_count": 88,
      "outputs": []
    },
    {
      "cell_type": "code",
      "execution_count": 94,
      "metadata": {
        "id": "KK-fo1UEx6lz"
      },
      "outputs": [],
      "source": [
        "class TextProcessor:\n",
        "    @staticmethod\n",
        "    def class_mapping(sentiment: str, num_classes: int= 3)-> int:\n",
        "        \"\"\" Map class labels to new values.\"\"\"\n",
        "        if num_classes == 3:\n",
        "            sentiment_mapping = {\n",
        "                'negative': 0,\n",
        "                'neutral': 1,\n",
        "                'positive': 2,\n",
        "            }\n",
        "        elif num_classes == 2:\n",
        "            sentiment_mapping = {\n",
        "                'negative': 0,\n",
        "                'positive': 1,\n",
        "            }\n",
        "        else:\n",
        "            raise ValueError(\"num_classes must be 2 or 3.\")\n",
        "\n",
        "        return sentiment_mapping.get(sentiment, -1)\n",
        "\n",
        "    # Remove url\n",
        "    @staticmethod\n",
        "    def remove_urls(text):\n",
        "        url = re.compile(r'https?://\\S+|www\\.\\S+')\n",
        "        return url.sub(r'',text)\n",
        "\n",
        "    # Remove html\n",
        "    @staticmethod\n",
        "    def remove_html(text):\n",
        "        html=re.compile(r'<.*?>')\n",
        "        return html.sub(r'',text)\n",
        "\n",
        "    # Decontraction text\n",
        "    @staticmethod\n",
        "    def decontraction(text):\n",
        "        contractions = {\n",
        "            r\"won\\'t\": \" will not\",\n",
        "            r\"won\\'t've\": \" will not have\",\n",
        "            r\"can\\'t\": \" can not\",\n",
        "            r\"don\\'t\": \" do not\",\n",
        "            r\"didn\\'t\": \" did not\",\n",
        "            r\"can\\'t've\": \" can not have\",\n",
        "            r\"ma\\'am\": \" madam\",\n",
        "            r\"let\\'s\": \" let us\",\n",
        "            r\"ain\\'t\": \" am not\",\n",
        "            r\"shan\\'t\": \" shall not\",\n",
        "            r\"sha\\n't\": \" shall not\",\n",
        "            r\"o\\'clock\": \" of the clock\",\n",
        "            r\"y\\'all\": \" you all\",\n",
        "            r\"n\\'t\": \" not\",\n",
        "            r\"n\\'t've\": \" not have\",\n",
        "            r\"\\'re\": \" are\",\n",
        "            r\"\\'s\": \" is\",\n",
        "            r\"\\'d\": \" would\",\n",
        "            r\"\\'d've\": \" would have\",\n",
        "            r\"\\'ll\": \" will\",\n",
        "            r\"\\'ll've\": \" will have\",\n",
        "            r\"\\'t\": \" not\",\n",
        "            r\"\\'ve\": \" have\",\n",
        "            r\"\\'m\": \" am\",\n",
        "            r\"\\'re\": \" are\",\n",
        "        }\n",
        "        for pattern, replacement in contractions.items():\n",
        "            text = re.sub(pattern, replacement, text)\n",
        "        return text\n",
        "\n",
        "    @staticmethod\n",
        "    def normalize_repeated_chars(text):\n",
        "        # Preserve ellipses by temporarily replacing them with a unique placeholder\n",
        "        placeholder = \"<ELLIPSIS>\"\n",
        "        text = re.sub(r'\\.{3,}', placeholder, text)  # Replace ellipses with a placeholder\n",
        "        # Normalize repeated characters. Matches any character repeated 3 or more times like cooool -> cool\n",
        "        text = re.sub(r'(.)\\1{2,}', r'\\1', text)\n",
        "        # Restore ellipses by replacing the placeholder with '...'\n",
        "        text = text.replace(placeholder, '...')\n",
        "        return text"
      ]
    },
    {
      "cell_type": "code",
      "execution_count": 106,
      "metadata": {
        "id": "nVlm3xUToxVf"
      },
      "outputs": [],
      "source": [
        "class DatasetLoader:\n",
        "    def __init__(self, *, file_path: str,  nrows= None, _data= None):\n",
        "        self.file_path: str = file_path\n",
        "        self._data: Optional[pd.DataFrame] = _data\n",
        "        self.nrows= nrows\n",
        "\n",
        "    def loader(self) -> pd.DataFrame:\n",
        "        if self._data is None:\n",
        "            print(\"data is available\")\n",
        "\n",
        "            if not os.path.exists(self.file_path):\n",
        "                logging.error(f\"File not found: {self.file_path}\")\n",
        "                raise FileNotFoundError(f\"File not found: {self.file_path}\")\n",
        "            try:\n",
        "                self._data = pd.read_csv(self.file_path, nrows= self.nrows)\n",
        "                logging.info(\"Data loaded successfully.\")\n",
        "            except Exception as e:\n",
        "                logging.error(f\"Error loading data: {e}\")\n",
        "                raise\n",
        "\n",
        "        return self._data\n",
        "\n",
        "    def visualize_data(self)-> pd.DataFrame:\n",
        "        if self._data is None:\n",
        "            raise ValueError(\"Data not loaded. Call `loader()` first.\")\n",
        "        DataVisualizer.visualize_sentiment(self._data)\n",
        "        return self._data\n",
        "\n",
        "    def map_classes(self)-> pd.DataFrame:\n",
        "        if self._data is None:\n",
        "            raise ValueError(\"Data not loaded. Call `loader()` first.\")\n",
        "        num_classes= self._data['labels'].value_counts()\n",
        "        self._data['labels'] = self._data['labels'].apply(TextProcessor.class_mapping, num_classes= num_classes)\n",
        "        return self._data\n",
        "\n",
        "    def text_preprocessing(self)-> pd.DataFrame:\n",
        "        if self._data is None:\n",
        "            raise ValueError(\"Data not loaded. Call `loader()` first.\")\n",
        "\n",
        "        # Apply the static method to remove html\n",
        "        self._data['revised_text']= self._data['text'].apply(TextProcessor.remove_html)\n",
        "        # Apply the static method to remove urls\n",
        "        self._data['revised_text']= self._data['revised_text'].apply(TextProcessor.remove_urls)\n",
        "        # Apply the static method to decontract text.\n",
        "        self._data['revised_text']= self._data['revised_text'].apply(TextProcessor.decontraction)\n",
        "        # Convert texts to lowercase.\n",
        "        self._data['revised_text']= self._data['revised_text'].apply(lambda x: x.lower())\n",
        "        # Replace Repeated Characters with a Single Instance\n",
        "        self._data['revised_text']= self._data['revised_text'].apply(TextProcessor.normalize_repeated_chars)\n",
        "\n",
        "    def __str__(self):\n",
        "        if self._data is None:\n",
        "            return \"Data not loaded.\"\n",
        "        information = [\n",
        "            f'Categories of : {self._data.labels.value_counts().to_dict()}',\n",
        "            f'\\nInformation: {self._data.info()}'\n",
        "        ]\n",
        "        return ', '.join(information)\n",
        "\n",
        "    def __call__(self)-> pd.DataFrame:\n",
        "        self.loader()\n",
        "        self.visualize_data()\n",
        "        # self.map_classes()\n",
        "        self.text_preprocessing()\n",
        "        return self._data\n"
      ]
    },
    {
      "cell_type": "markdown",
      "metadata": {
        "id": "RofyKdP9fkCR"
      },
      "source": [
        "# **Generate aspect of each text by text2text generation LLM**"
      ]
    },
    {
      "cell_type": "code",
      "source": [
        "from transformers import T5ForConditionalGeneration, T5TokenizerFast\n",
        "\n",
        "class AspectGeneration:\n",
        "    def __init__(self, save_path, model_name, texts, labels, prompt, batch_size=128):\n",
        "        self.model_name = model_name\n",
        "        self.texts = texts\n",
        "        self.labels= labels\n",
        "        self.batch_size = batch_size\n",
        "        self.prompt = prompt\n",
        "        self.device = 'cuda' if torch.cuda.is_available() else 'cpu'\n",
        "        self.model = None\n",
        "        self.tokenizer = None\n",
        "        self.save_path= save_path\n",
        "\n",
        "    def load_model(self):\n",
        "        \"\"\"Load the T5 model and tokenizer.\"\"\"\n",
        "        self.model = T5ForConditionalGeneration.from_pretrained(self.model_name, device_map='auto', torch_dtype=torch.float16)\n",
        "        self.tokenizer = T5TokenizerFast.from_pretrained(self.model_name)\n",
        "        self.model.to(self.device)\n",
        "\n",
        "    def text_augmentation(self):\n",
        "        \"\"\"Generate augmented texts using the T5 model.\"\"\"\n",
        "        augmented_texts = []\n",
        "\n",
        "        for i in range(0, len(self.texts), self.batch_size):\n",
        "            batch = self.texts[i:i + self.batch_size]\n",
        "            prompts = [self.prompt + text for text in batch]\n",
        "\n",
        "            # Tokenize and generate\n",
        "            inputs = self.tokenizer(\n",
        "                prompts,\n",
        "                return_tensors='pt',\n",
        "                padding=True,\n",
        "                truncation=True\n",
        "            ).to(self.device)\n",
        "\n",
        "            outputs = self.model.generate(\n",
        "                **inputs,\n",
        "                max_length=50,\n",
        "                num_return_sequences=1\n",
        "            )\n",
        "\n",
        "            # Decode and combine\n",
        "            generated_texts = self.tokenizer.batch_decode(outputs, skip_special_tokens=True)\n",
        "\n",
        "            print(f'Generated {i}/{len(self.texts)} texts')\n",
        "\n",
        "            for original_text, generated_text in zip(batch, generated_texts):\n",
        "                augmented_texts.append(f\"{original_text} [START_ASPECT] {generated_text} [END_ASPECT]\")\n",
        "\n",
        "        return augmented_texts\n",
        "\n",
        "    def create_dataset(self, augmented_texts, labels=None):\n",
        "\n",
        "        dataset_dict = {\"text\": augmented_texts}\n",
        "        if labels is not None:\n",
        "            dataset_dict[\"labels\"] = self.labels\n",
        "\n",
        "        # Create a Hugging Face Dataset\n",
        "        dataset = Dataset.from_dict(dataset_dict)\n",
        "\n",
        "        # Convert to Pandas DataFrame\n",
        "        df = pd.DataFrame(dataset_dict)\n",
        "\n",
        "        # Save to CSV if a save path is provided\n",
        "        if save_path:\n",
        "            try:\n",
        "                df.to_csv(save_path, index=False)\n",
        "                print(f\"Dataset saved successfully to {self.save_path}\")\n",
        "            except Exception as e:\n",
        "                print(f\"Error saving dataset to {self.save_path}: {e}\")\n",
        "\n",
        "        return dataset, df\n",
        "\n",
        "    def __call__(self):\n",
        "        self.load_model()\n",
        "        augmented_texts = self.text_augmentation()\n",
        "\n",
        "        if self.labels is not None:\n",
        "            dataset, df = self.create_dataset(augmented_texts, self.labels)  # Pass augmented_texts and labels\n",
        "            return augmented_texts, dataset, df\n",
        "        else:\n",
        "            # Return empty dataset and DataFrame if labels are not provided\n",
        "            dataset = Dataset.from_dict({\"text\": augmented_texts})\n",
        "            df = pd.DataFrame({\"text\": augmented_texts})\n",
        "            return augmented_texts, dataset, df"
      ],
      "metadata": {
        "id": "zL0OwAba3hn6"
      },
      "execution_count": 9,
      "outputs": []
    },
    {
      "cell_type": "markdown",
      "source": [
        "#**Useing File**"
      ],
      "metadata": {
        "id": "DrK1d_BI3Q0Q"
      }
    },
    {
      "cell_type": "code",
      "source": [
        "from datasets import load_dataset\n",
        "dataset= load_dataset('stanfordnlp/imdb', split= 'train')\n",
        "dataset"
      ],
      "metadata": {
        "id": "k0iZ0eFGXPd_",
        "outputId": "1309e660-b021-40a7-c785-b5f9861b0457",
        "colab": {
          "base_uri": "https://localhost:8080/"
        }
      },
      "execution_count": 121,
      "outputs": [
        {
          "output_type": "execute_result",
          "data": {
            "text/plain": [
              "Dataset({\n",
              "    features: ['text', 'label'],\n",
              "    num_rows: 25000\n",
              "})"
            ]
          },
          "metadata": {},
          "execution_count": 121
        }
      ]
    },
    {
      "cell_type": "code",
      "source": [
        "df= dataset.to_pandas()\n",
        "df= df.rename(columns={'sentence': 'text', 'label': 'labels'})\n",
        "loader= DatasetLoader(file_path=' ', _data= df)\n",
        "loader()\n",
        "print(loader)"
      ],
      "metadata": {
        "id": "-u3tJ7Q9d33a",
        "outputId": "ac1f50bf-8d28-4e0d-e6b7-bc883e018220",
        "colab": {
          "base_uri": "https://localhost:8080/",
          "height": 586
        }
      },
      "execution_count": 126,
      "outputs": [
        {
          "output_type": "display_data",
          "data": {
            "text/plain": [
              "<Figure size 400x400 with 1 Axes>"
            ],
            "image/png": "[encoded data removed]"
          },
          "metadata": {}
        },
        {
          "output_type": "stream",
          "name": "stdout",
          "text": [
            "<class 'pandas.core.frame.DataFrame'>\n",
            "RangeIndex: 25000 entries, 0 to 24999\n",
            "Data columns (total 3 columns):\n",
            " #   Column        Non-Null Count  Dtype \n",
            "---  ------        --------------  ----- \n",
            " 0   text          25000 non-null  object\n",
            " 1   labels        25000 non-null  int64 \n",
            " 2   revised_text  25000 non-null  object\n",
            "dtypes: int64(1), object(2)\n",
            "memory usage: 586.1+ KB\n",
            "Categories of : {0: 12500, 1: 12500}, \n",
            "Information: None\n"
          ]
        }
      ]
    },
    {
      "cell_type": "code",
      "execution_count": null,
      "metadata": {
        "colab": {
          "base_uri": "https://localhost:8080/",
          "height": 49,
          "referenced_widgets": [
            "56dbd16a08d94b6e8277c269dc9b3497",
            "c940d022734c4938a2f3e64e7e763e4a",
            "18fbbe4503b94414a12ca347354ad572",
            "fbd8648eb1ca4f1b8609bc00ce8b3bb9",
            "615e4a2b29bf4458baa3e78c24bb0e12",
            "bfb69a2b296e46e999e38bfeee83520c",
            "085a505122af4f6499473843441c5986",
            "9250d1a5a79e456ab1ab8d0c46cbcd8e",
            "257d58184f0640ecbe200dd86221b283",
            "1967c2dd86a0415781115439fde683d6",
            "d11137bb75324206b308fd49908c5e1b"
          ]
        },
        "id": "y-J2SScmQLuC",
        "outputId": "574b6d50-bc5e-4414-ad7f-6bbf3d3d5802"
      },
      "outputs": [
        {
          "output_type": "display_data",
          "data": {
            "text/plain": [
              "model.safetensors:   1%|1         | 41.9M/3.13G [00:00<?, ?B/s]"
            ],
            "application/vnd.jupyter.widget-view+json": {
              "version_major": 2,
              "version_minor": 0,
              "model_id": "56dbd16a08d94b6e8277c269dc9b3497"
            }
          },
          "metadata": {}
        }
      ],
      "source": [
        "if __name__ == \"__main__\":\n",
        "    # !git clone 'https://github.com/HoseinNekouei/sentiment_analysis.git'\n",
        "    # file_path= '/content/sentiment_analysis/balanced_dataset_US_airline_Tweet.csv'\n",
        "\n",
        "    # loader= DatasetLoader(file_path= file_path, nrows=100)\n",
        "    # loader() # Load, visualize, map classes, and preprocess data\n",
        "    # print(loader)\n",
        "\n",
        "    batch_size= 512\n",
        "    model_name = \"google/flan-t5-large\"\n",
        "    prompt = \"Provide a brief explanation the interpretation of the key emotional aspects and tone: \"\n",
        "\n",
        "    save_path=\"/content/drive/MyDrive/dataset/aspected_stanfordnlp_IMDB_train_corpus.csv\"\n",
        "\n",
        "    # Initialize the AspectGeneration class\n",
        "    aspect_generator = AspectGeneration(\n",
        "        save_path=save_path,\n",
        "        model_name=model_name,\n",
        "        texts=loader._data['text'],\n",
        "        labels=loader._data['lables'],\n",
        "        prompt=prompt,\n",
        "        batch_size=batch_size\n",
        "    )\n",
        "\n",
        "    # Call the generator\n",
        "    augmented_texts, dataset, df = aspect_generator()\n",
        "\n",
        "    # Print results\n",
        "    print(\"Augmented Texts:\")\n",
        "    [print(text) for text in augmented_texts[:5]]\n",
        "\n",
        "    print(\"\\nHugging Face Dataset:\")\n",
        "    print(dataset)\n",
        "\n",
        "    print(\"\\nPandas DataFrame:\")\n",
        "    print(df.info())"
      ]
    },
    {
      "cell_type": "code",
      "source": [],
      "metadata": {
        "id": "dMb6ggsBHZhx"
      },
      "execution_count": null,
      "outputs": []
    }
  ],
  "metadata": {
    "colab": {
      "provenance": [],
      "include_colab_link": true
    },
    "kernelspec": {
      "display_name": "Python 3",
      "name": "python3"
    },
    "language_info": {
      "name": "python"
    },
    "widgets": {
      "application/vnd.jupyter.widget-state+json": {
        "56dbd16a08d94b6e8277c269dc9b3497": {
          "model_module": "@jupyter-widgets/controls",
          "model_name": "HBoxModel",
          "model_module_version": "1.5.0",
          "state": {
            "_dom_classes": [],
            "_model_module": "@jupyter-widgets/controls",
            "_model_module_version": "1.5.0",
            "_model_name": "HBoxModel",
            "_view_count": null,
            "_view_module": "@jupyter-widgets/controls",
            "_view_module_version": "1.5.0",
            "_view_name": "HBoxView",
            "box_style": "",
            "children": [
              "IPY_MODEL_c940d022734c4938a2f3e64e7e763e4a",
              "IPY_MODEL_18fbbe4503b94414a12ca347354ad572",
              "IPY_MODEL_fbd8648eb1ca4f1b8609bc00ce8b3bb9"
            ],
            "layout": "IPY_MODEL_615e4a2b29bf4458baa3e78c24bb0e12"
          }
        },
        "c940d022734c4938a2f3e64e7e763e4a": {
          "model_module": "@jupyter-widgets/controls",
          "model_name": "HTMLModel",
          "model_module_version": "1.5.0",
          "state": {
            "_dom_classes": [],
            "_model_module": "@jupyter-widgets/controls",
            "_model_module_version": "1.5.0",
            "_model_name": "HTMLModel",
            "_view_count": null,
            "_view_module": "@jupyter-widgets/controls",
            "_view_module_version": "1.5.0",
            "_view_name": "HTMLView",
            "description": "",
            "description_tooltip": null,
            "layout": "IPY_MODEL_bfb69a2b296e46e999e38bfeee83520c",
            "placeholder": "​",
            "style": "IPY_MODEL_085a505122af4f6499473843441c5986",
            "value": "model.safetensors:  92%"
          }
        },
        "18fbbe4503b94414a12ca347354ad572": {
          "model_module": "@jupyter-widgets/controls",
          "model_name": "FloatProgressModel",
          "model_module_version": "1.5.0",
          "state": {
            "_dom_classes": [],
            "_model_module": "@jupyter-widgets/controls",
            "_model_module_version": "1.5.0",
            "_model_name": "FloatProgressModel",
            "_view_count": null,
            "_view_module": "@jupyter-widgets/controls",
            "_view_module_version": "1.5.0",
            "_view_name": "ProgressView",
            "bar_style": "",
            "description": "",
            "description_tooltip": null,
            "layout": "IPY_MODEL_9250d1a5a79e456ab1ab8d0c46cbcd8e",
            "max": 3132668804,
            "min": 0,
            "orientation": "horizontal",
            "style": "IPY_MODEL_257d58184f0640ecbe200dd86221b283",
            "value": 2883584000
          }
        },
        "fbd8648eb1ca4f1b8609bc00ce8b3bb9": {
          "model_module": "@jupyter-widgets/controls",
          "model_name": "HTMLModel",
          "model_module_version": "1.5.0",
          "state": {
            "_dom_classes": [],
            "_model_module": "@jupyter-widgets/controls",
            "_model_module_version": "1.5.0",
            "_model_name": "HTMLModel",
            "_view_count": null,
            "_view_module": "@jupyter-widgets/controls",
            "_view_module_version": "1.5.0",
            "_view_name": "HTMLView",
            "description": "",
            "description_tooltip": null,
            "layout": "IPY_MODEL_1967c2dd86a0415781115439fde683d6",
            "placeholder": "​",
            "style": "IPY_MODEL_d11137bb75324206b308fd49908c5e1b",
            "value": " 2.88G/3.13G [07:50&lt;00:34, 7.33MB/s]"
          }
        },
        "615e4a2b29bf4458baa3e78c24bb0e12": {
          "model_module": "@jupyter-widgets/base",
          "model_name": "LayoutModel",
          "model_module_version": "1.2.0",
          "state": {
            "_model_module": "@jupyter-widgets/base",
            "_model_module_version": "1.2.0",
            "_model_name": "LayoutModel",
            "_view_count": null,
            "_view_module": "@jupyter-widgets/base",
            "_view_module_version": "1.2.0",
            "_view_name": "LayoutView",
            "align_content": null,
            "align_items": null,
            "align_self": null,
            "border": null,
            "bottom": null,
            "display": null,
            "flex": null,
            "flex_flow": null,
            "grid_area": null,
            "grid_auto_columns": null,
            "grid_auto_flow": null,
            "grid_auto_rows": null,
            "grid_column": null,
            "grid_gap": null,
            "grid_row": null,
            "grid_template_areas": null,
            "grid_template_columns": null,
            "grid_template_rows": null,
            "height": null,
            "justify_content": null,
            "justify_items": null,
            "left": null,
            "margin": null,
            "max_height": null,
            "max_width": null,
            "min_height": null,
            "min_width": null,
            "object_fit": null,
            "object_position": null,
            "order": null,
            "overflow": null,
            "overflow_x": null,
            "overflow_y": null,
            "padding": null,
            "right": null,
            "top": null,
            "visibility": null,
            "width": null
          }
        },
        "bfb69a2b296e46e999e38bfeee83520c": {
          "model_module": "@jupyter-widgets/base",
          "model_name": "LayoutModel",
          "model_module_version": "1.2.0",
          "state": {
            "_model_module": "@jupyter-widgets/base",
            "_model_module_version": "1.2.0",
            "_model_name": "LayoutModel",
            "_view_count": null,
            "_view_module": "@jupyter-widgets/base",
            "_view_module_version": "1.2.0",
            "_view_name": "LayoutView",
            "align_content": null,
            "align_items": null,
            "align_self": null,
            "border": null,
            "bottom": null,
            "display": null,
            "flex": null,
            "flex_flow": null,
            "grid_area": null,
            "grid_auto_columns": null,
            "grid_auto_flow": null,
            "grid_auto_rows": null,
            "grid_column": null,
            "grid_gap": null,
            "grid_row": null,
            "grid_template_areas": null,
            "grid_template_columns": null,
            "grid_template_rows": null,
            "height": null,
            "justify_content": null,
            "justify_items": null,
            "left": null,
            "margin": null,
            "max_height": null,
            "max_width": null,
            "min_height": null,
            "min_width": null,
            "object_fit": null,
            "object_position": null,
            "order": null,
            "overflow": null,
            "overflow_x": null,
            "overflow_y": null,
            "padding": null,
            "right": null,
            "top": null,
            "visibility": null,
            "width": null
          }
        },
        "085a505122af4f6499473843441c5986": {
          "model_module": "@jupyter-widgets/controls",
          "model_name": "DescriptionStyleModel",
          "model_module_version": "1.5.0",
          "state": {
            "_model_module": "@jupyter-widgets/controls",
            "_model_module_version": "1.5.0",
            "_model_name": "DescriptionStyleModel",
            "_view_count": null,
            "_view_module": "@jupyter-widgets/base",
            "_view_module_version": "1.2.0",
            "_view_name": "StyleView",
            "description_width": ""
          }
        },
        "9250d1a5a79e456ab1ab8d0c46cbcd8e": {
          "model_module": "@jupyter-widgets/base",
          "model_name": "LayoutModel",
          "model_module_version": "1.2.0",
          "state": {
            "_model_module": "@jupyter-widgets/base",
            "_model_module_version": "1.2.0",
            "_model_name": "LayoutModel",
            "_view_count": null,
            "_view_module": "@jupyter-widgets/base",
            "_view_module_version": "1.2.0",
            "_view_name": "LayoutView",
            "align_content": null,
            "align_items": null,
            "align_self": null,
            "border": null,
            "bottom": null,
            "display": null,
            "flex": null,
            "flex_flow": null,
            "grid_area": null,
            "grid_auto_columns": null,
            "grid_auto_flow": null,
            "grid_auto_rows": null,
            "grid_column": null,
            "grid_gap": null,
            "grid_row": null,
            "grid_template_areas": null,
            "grid_template_columns": null,
            "grid_template_rows": null,
            "height": null,
            "justify_content": null,
            "justify_items": null,
            "left": null,
            "margin": null,
            "max_height": null,
            "max_width": null,
            "min_height": null,
            "min_width": null,
            "object_fit": null,
            "object_position": null,
            "order": null,
            "overflow": null,
            "overflow_x": null,
            "overflow_y": null,
            "padding": null,
            "right": null,
            "top": null,
            "visibility": null,
            "width": null
          }
        },
        "257d58184f0640ecbe200dd86221b283": {
          "model_module": "@jupyter-widgets/controls",
          "model_name": "ProgressStyleModel",
          "model_module_version": "1.5.0",
          "state": {
            "_model_module": "@jupyter-widgets/controls",
            "_model_module_version": "1.5.0",
            "_model_name": "ProgressStyleModel",
            "_view_count": null,
            "_view_module": "@jupyter-widgets/base",
            "_view_module_version": "1.2.0",
            "_view_name": "StyleView",
            "bar_color": null,
            "description_width": ""
          }
        },
        "1967c2dd86a0415781115439fde683d6": {
          "model_module": "@jupyter-widgets/base",
          "model_name": "LayoutModel",
          "model_module_version": "1.2.0",
          "state": {
            "_model_module": "@jupyter-widgets/base",
            "_model_module_version": "1.2.0",
            "_model_name": "LayoutModel",
            "_view_count": null,
            "_view_module": "@jupyter-widgets/base",
            "_view_module_version": "1.2.0",
            "_view_name": "LayoutView",
            "align_content": null,
            "align_items": null,
            "align_self": null,
            "border": null,
            "bottom": null,
            "display": null,
            "flex": null,
            "flex_flow": null,
            "grid_area": null,
            "grid_auto_columns": null,
            "grid_auto_flow": null,
            "grid_auto_rows": null,
            "grid_column": null,
            "grid_gap": null,
            "grid_row": null,
            "grid_template_areas": null,
            "grid_template_columns": null,
            "grid_template_rows": null,
            "height": null,
            "justify_content": null,
            "justify_items": null,
            "left": null,
            "margin": null,
            "max_height": null,
            "max_width": null,
            "min_height": null,
            "min_width": null,
            "object_fit": null,
            "object_position": null,
            "order": null,
            "overflow": null,
            "overflow_x": null,
            "overflow_y": null,
            "padding": null,
            "right": null,
            "top": null,
            "visibility": null,
            "width": null
          }
        },
        "d11137bb75324206b308fd49908c5e1b": {
          "model_module": "@jupyter-widgets/controls",
          "model_name": "DescriptionStyleModel",
          "model_module_version": "1.5.0",
          "state": {
            "_model_module": "@jupyter-widgets/controls",
            "_model_module_version": "1.5.0",
            "_model_name": "DescriptionStyleModel",
            "_view_count": null,
            "_view_module": "@jupyter-widgets/base",
            "_view_module_version": "1.2.0",
            "_view_name": "StyleView",
            "description_width": ""
          }
        }
      }
    }
  },
  "nbformat": 4,
  "nbformat_minor": 0
}