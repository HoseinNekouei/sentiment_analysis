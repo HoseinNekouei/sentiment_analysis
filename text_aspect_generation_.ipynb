{
  "cells": [
    {
      "cell_type": "markdown",
      "metadata": {
        "id": "view-in-github",
        "colab_type": "text"
      },
      "source": [
        "<a href=\"https://colab.research.google.com/github/HoseinNekouei/sentiment_analysis/blob/main/text_aspect_generation_.ipynb\" target=\"_parent\"><img src=\"https://colab.research.google.com/assets/colab-badge.svg\" alt=\"Open In Colab\"/></a>"
      ]
    },
    {
      "cell_type": "markdown",
      "metadata": {
        "id": "Q-smsfOhs_7L"
      },
      "source": [
        "# **Import Libreries and important requirment**"
      ]
    },
    {
      "cell_type": "code",
      "execution_count": null,
      "metadata": {
        "id": "8w1R_F5ZdLB3"
      },
      "outputs": [],
      "source": [
        "!pip install datasets"
      ]
    },
    {
      "cell_type": "code",
      "source": [
        "# Standard library imports\n",
        "import os\n",
        "import re\n",
        "import logging\n",
        "from typing import Optional\n",
        "from google.colab import output\n",
        "from google.colab import userdata\n",
        "\n",
        "# Third-party library imports\n",
        "import torch\n",
        "import pandas as pd\n",
        "import seaborn as sns\n",
        "import matplotlib.pyplot as plt\n",
        "import nltk\n",
        "from typing import Optional\n",
        "from datasets import Dataset\n",
        "\n",
        "# Initialize logging\n",
        "logging.basicConfig(level=logging.INFO, format='%(asctime)s - %(levelname)s - %(message)s')\n",
        "\n",
        "userdata.get('HF_TOKEN')\n",
        "\n",
        "from google.colab import drive\n",
        "drive.mount('/content/drive')"
      ],
      "metadata": {
        "colab": {
          "base_uri": "https://localhost:8080/"
        },
        "id": "-Vg9oSdkyOB8",
        "outputId": "aeccf7cc-a992-4c0b-875b-4253f2401526"
      },
      "execution_count": 12,
      "outputs": [
        {
          "output_type": "stream",
          "name": "stdout",
          "text": [
            "Drive already mounted at /content/drive; to attempt to forcibly remount, call drive.mount(\"/content/drive\", force_remount=True).\n"
          ]
        }
      ]
    },
    {
      "cell_type": "markdown",
      "metadata": {
        "id": "6HQlVPPTtImJ"
      },
      "source": [
        "# **Load Dataset and Pre-Processing data**"
      ]
    },
    {
      "cell_type": "code",
      "source": [
        "# visualize Data variation\n",
        "class DataVisualizer:\n",
        "    @staticmethod\n",
        "    def visualize_sentiment(data):\n",
        "        sentiment_count = data.labels.value_counts()\n",
        "        colors = sns.color_palette('pastel', 3)\n",
        "        labels = ['Negative', 'Neutral', 'Positive']\n",
        "        explode = [0.01, 0.01, 0.01]\n",
        "\n",
        "        plt.figure(figsize=(4, 4))\n",
        "        sentiment_count.plot(\n",
        "            kind='pie',\n",
        "            colors=colors,\n",
        "            labels=labels,\n",
        "            explode=explode,\n",
        "            shadow=True,\n",
        "            autopct='%.2f',\n",
        "            fontsize=12,\n",
        "        )\n",
        "        plt.title('Total Tweets for Each Sentiment')\n",
        "        plt.ylabel(' ')\n",
        "        plt.show()"
      ],
      "metadata": {
        "id": "PZPHhMlyy7MV"
      },
      "execution_count": 4,
      "outputs": []
    },
    {
      "cell_type": "code",
      "execution_count": 5,
      "metadata": {
        "id": "KK-fo1UEx6lz"
      },
      "outputs": [],
      "source": [
        "class TextProcessor:\n",
        "    @staticmethod\n",
        "    def class_mapping(sentiment: str)-> int:\n",
        "        \"\"\" Map class labels to new values.\"\"\"\n",
        "        sentiment_mapping={\n",
        "            'negative': 0,\n",
        "            'neutral': 1,\n",
        "            'positive': 2,\n",
        "        }\n",
        "        return sentiment_mapping.get(sentiment, -1)\n",
        "\n",
        "    # Remove url\n",
        "    @staticmethod\n",
        "    def remove_urls(text):\n",
        "        url = re.compile(r'https?://\\S+|www\\.\\S+')\n",
        "        return url.sub(r'',text)\n",
        "\n",
        "    # Remove html\n",
        "    @staticmethod\n",
        "    def remove_html(text):\n",
        "        html=re.compile(r'<.*?>')\n",
        "        return html.sub(r'',text)\n",
        "\n",
        "    # Decontraction text\n",
        "    @staticmethod\n",
        "    def decontraction(text):\n",
        "        contractions = {\n",
        "            r\"won\\'t\": \" will not\",\n",
        "            r\"won\\'t've\": \" will not have\",\n",
        "            r\"can\\'t\": \" can not\",\n",
        "            r\"don\\'t\": \" do not\",\n",
        "            r\"didn\\'t\": \" did not\",\n",
        "            r\"can\\'t've\": \" can not have\",\n",
        "            r\"ma\\'am\": \" madam\",\n",
        "            r\"let\\'s\": \" let us\",\n",
        "            r\"ain\\'t\": \" am not\",\n",
        "            r\"shan\\'t\": \" shall not\",\n",
        "            r\"sha\\n't\": \" shall not\",\n",
        "            r\"o\\'clock\": \" of the clock\",\n",
        "            r\"y\\'all\": \" you all\",\n",
        "            r\"n\\'t\": \" not\",\n",
        "            r\"n\\'t've\": \" not have\",\n",
        "            r\"\\'re\": \" are\",\n",
        "            r\"\\'s\": \" is\",\n",
        "            r\"\\'d\": \" would\",\n",
        "            r\"\\'d've\": \" would have\",\n",
        "            r\"\\'ll\": \" will\",\n",
        "            r\"\\'ll've\": \" will have\",\n",
        "            r\"\\'t\": \" not\",\n",
        "            r\"\\'ve\": \" have\",\n",
        "            r\"\\'m\": \" am\",\n",
        "            r\"\\'re\": \" are\",\n",
        "        }\n",
        "        for pattern, replacement in contractions.items():\n",
        "            text = re.sub(pattern, replacement, text)\n",
        "        return text\n",
        "\n",
        "    @staticmethod\n",
        "    def normalize_repeated_chars(text):\n",
        "        # Preserve ellipses by temporarily replacing them with a unique placeholder\n",
        "        placeholder = \"<ELLIPSIS>\"\n",
        "        text = re.sub(r'\\.{3,}', placeholder, text)  # Replace ellipses with a placeholder\n",
        "        # Normalize repeated characters. Matches any character repeated 3 or more times like cooool -> cool\n",
        "        text = re.sub(r'(.)\\1{2,}', r'\\1', text)\n",
        "        # Restore ellipses by replacing the placeholder with '...'\n",
        "        text = text.replace(placeholder, '...')\n",
        "        return text"
      ]
    },
    {
      "cell_type": "code",
      "execution_count": 16,
      "metadata": {
        "id": "nVlm3xUToxVf"
      },
      "outputs": [],
      "source": [
        "class DatasetLoader:\n",
        "    def __init__(self, *, file_path: str,  nrows= None):\n",
        "        self.file_path: str = file_path\n",
        "        self._data: Optional[pd.DataFrame] = None\n",
        "        self.nrows= nrows\n",
        "\n",
        "    def loader(self) -> pd.DataFrame:\n",
        "        if not os.path.exists(self.file_path):\n",
        "            logging.error(f\"File not found: {self.file_path}\")\n",
        "            raise FileNotFoundError(f\"File not found: {self.file_path}\")\n",
        "        try:\n",
        "            self._data = pd.read_csv(self.file_path, nrows= self.nrows)\n",
        "            logging.info(\"Data loaded successfully.\")\n",
        "        except Exception as e:\n",
        "            logging.error(f\"Error loading data: {e}\")\n",
        "            raise\n",
        "        return self._data\n",
        "\n",
        "    def visualize_data(self)-> pd.DataFrame:\n",
        "        if self._data is None:\n",
        "            raise ValueError(\"Data not loaded. Call `loader()` first.\")\n",
        "        DataVisualizer.visualize_sentiment(self._data)\n",
        "        return self._data\n",
        "\n",
        "    def map_classes(self)-> pd.DataFrame:\n",
        "        if self._data is None:\n",
        "            raise ValueError(\"Data not loaded. Call `loader()` first.\")\n",
        "        self._data['labels'] = self._data['labels'].apply(TextProcessor.class_mapping)\n",
        "        return self._data\n",
        "\n",
        "    def text_preprocessing(self)-> pd.DataFrame:\n",
        "        if self._data is None:\n",
        "            raise ValueError(\"Data not loaded. Call `loader()` first.\")\n",
        "\n",
        "        # Apply the static method to remove html\n",
        "        self._data['revised_text']= self._data['text'].apply(TextProcessor.remove_html)\n",
        "        # Apply the static method to remove urls\n",
        "        self._data['revised_text']= self._data['revised_text'].apply(TextProcessor.remove_urls)\n",
        "        # Apply the static method to decontract text.\n",
        "        self._data['revised_text']= self._data['revised_text'].apply(TextProcessor.decontraction)\n",
        "        # Convert texts to lowercase.\n",
        "        self._data['revised_text']= self._data['revised_text'].apply(lambda x: x.lower())\n",
        "        # Replace Repeated Characters with a Single Instance\n",
        "        self._data['revised_text']= self._data['revised_text'].apply(TextProcessor.normalize_repeated_chars)\n",
        "\n",
        "    def __str__(self):\n",
        "        if self._data is None:\n",
        "            return \"Data not loaded.\"\n",
        "        information = [\n",
        "            f'Categories of : {self._data.labels.value_counts().to_dict()}',\n",
        "            f'\\nInformation: {self._data.info()}'\n",
        "        ]\n",
        "        return ', '.join(information)\n",
        "\n",
        "    def __call__(self)-> pd.DataFrame:\n",
        "        self.loader()\n",
        "        self.visualize_data()\n",
        "        self.map_classes()\n",
        "        self.text_preprocessing()\n",
        "        return self._data\n"
      ]
    },
    {
      "cell_type": "markdown",
      "metadata": {
        "id": "RofyKdP9fkCR"
      },
      "source": [
        "# **Generate aspect of each text by text2text generation LLM**"
      ]
    },
    {
      "cell_type": "code",
      "source": [
        "from transformers import T5ForConditionalGeneration, T5TokenizerFast\n",
        "\n",
        "class AspectGeneration:\n",
        "    def __init__(self, *, model_name, texts, batch_size=128, prompt):\n",
        "        self.model_name = model_name\n",
        "        self.texts = texts\n",
        "        self.batch_size = batch_size\n",
        "        self.prompt = prompt\n",
        "        self.device = 'cuda' if torch.cuda.is_available() else 'cpu'\n",
        "        self.model = None\n",
        "        self.tokenizer = None\n",
        "\n",
        "    def load_model(self):\n",
        "        \"\"\"Load the T5 model and tokenizer.\"\"\"\n",
        "        self.model = T5ForConditionalGeneration.from_pretrained(self.model_name, device_map='auto', torch_dtype=torch.float16)\n",
        "        self.tokenizer = T5TokenizerFast.from_pretrained(self.model_name)\n",
        "        self.model.to(self.device)\n",
        "\n",
        "    def text_augmentation(self):\n",
        "        \"\"\"Generate augmented texts using the T5 model.\"\"\"\n",
        "        augmented_texts = []\n",
        "\n",
        "        for i in range(0, len(self.texts), self.batch_size):\n",
        "            batch = self.texts[i:i + self.batch_size]\n",
        "            prompts = [self.prompt + text for text in batch]\n",
        "\n",
        "            # Tokenize and generate\n",
        "            inputs = self.tokenizer(\n",
        "                prompts,\n",
        "                return_tensors='pt',\n",
        "                padding=True,\n",
        "                truncation=True\n",
        "            ).to(self.device)\n",
        "\n",
        "            outputs = self.model.generate(\n",
        "                **inputs,\n",
        "                max_length=50,\n",
        "                num_return_sequences=1\n",
        "            )\n",
        "\n",
        "            # Decode and combine\n",
        "            generated_texts = self.tokenizer.batch_decode(outputs, skip_special_tokens=True)\n",
        "\n",
        "            print(f'Generated {i}/{len(self.texts)} texts')\n",
        "\n",
        "            for original_text, generated_text in zip(batch, generated_texts):\n",
        "                augmented_texts.append(f\"{original_text} [START_ASPECT] {generated_text} [END_ASPECT]\")\n",
        "\n",
        "        return augmented_texts\n",
        "\n",
        "\n",
        "    def create_dataset(self, augmented_texts, labels=None, save_path=None):\n",
        "\n",
        "        dataset_dict = {\"text\": augmented_texts}\n",
        "        if labels is not None:\n",
        "            dataset_dict[\"labels\"] = labels\n",
        "\n",
        "        # Create a Hugging Face Dataset\n",
        "        dataset = Dataset.from_dict(dataset_dict)\n",
        "\n",
        "        # Convert to Pandas DataFrame\n",
        "        df = pd.DataFrame(dataset_dict)\n",
        "\n",
        "        # Save to CSV if a save path is provided\n",
        "        if save_path:\n",
        "            try:\n",
        "                df.to_csv(save_path, index=False)\n",
        "                print(f\"Dataset saved successfully to {save_path}\")\n",
        "            except Exception as e:\n",
        "                print(f\"Error saving dataset to {save_path}: {e}\")\n",
        "\n",
        "        return dataset, df\n",
        "\n",
        "    def __call__(self, labels=None, save_path=None):\n",
        "        self.load_model()\n",
        "        augmented_texts = self.text_augmentation()\n",
        "\n",
        "        if labels is not None:\n",
        "            dataset, df = self.create_dataset(augmented_texts, labels, save_path)\n",
        "            return augmented_texts, dataset, df\n",
        "        else:\n",
        "            return augmented_texts"
      ],
      "metadata": {
        "id": "zL0OwAba3hn6"
      },
      "execution_count": 7,
      "outputs": []
    },
    {
      "cell_type": "markdown",
      "source": [
        "#**Useing File**"
      ],
      "metadata": {
        "id": "DrK1d_BI3Q0Q"
      }
    },
    {
      "cell_type": "code",
      "execution_count": null,
      "metadata": {
        "colab": {
          "base_uri": "https://localhost:8080/",
          "height": 768
        },
        "id": "y-J2SScmQLuC",
        "outputId": "fc4f4638-ef8a-4afa-abdc-686ce714a936"
      },
      "outputs": [
        {
          "output_type": "stream",
          "name": "stdout",
          "text": [
            "fatal: destination path 'sentiment_analysis' already exists and is not an empty directory.\n"
          ]
        },
        {
          "output_type": "display_data",
          "data": {
            "text/plain": [
              "<Figure size 400x400 with 1 Axes>"
            ],
            "image/png": "[encoded data removed]"
          },
          "metadata": {}
        },
        {
          "output_type": "stream",
          "name": "stdout",
          "text": [
            "<class 'pandas.core.frame.DataFrame'>\n",
            "RangeIndex: 54231 entries, 0 to 54230\n",
            "Data columns (total 5 columns):\n",
            " #   Column          Non-Null Count  Dtype \n",
            "---  ------          --------------  ----- \n",
            " 0   text            54231 non-null  object\n",
            " 1   labels          54231 non-null  int64 \n",
            " 2   negativereason  18117 non-null  object\n",
            " 3   positivereason  17997 non-null  object\n",
            " 4   revised_text    54231 non-null  object\n",
            "dtypes: int64(1), object(4)\n",
            "memory usage: 2.1+ MB\n",
            "Categories of : {1: 18117, 0: 18117, 2: 17997}, \n",
            "Information: None\n",
            "Generated 0/54231 texts\n",
            "Generated 512/54231 texts\n",
            "Generated 1024/54231 texts\n",
            "Generated 1536/54231 texts\n",
            "Generated 2048/54231 texts\n",
            "Generated 2560/54231 texts\n",
            "Generated 3072/54231 texts\n"
          ]
        }
      ],
      "source": [
        "if __name__ == \"__main__\":\n",
        "    !git clone 'https://github.com/HoseinNekouei/sentiment_analysis.git'\n",
        "    file_path= '/content/sentiment_analysis/balanced_dataset_US_airline_Tweet.csv'\n",
        "\n",
        "    loader= DatasetLoader(file_path= file_path)\n",
        "    loader() # Load, visualize, map classes, and preprocess data\n",
        "    print(loader)\n",
        "\n",
        "    texts= loader._data['text']\n",
        "    labels= loader._data['labels']\n",
        "\n",
        "    batch_size= 512\n",
        "    model_name = \"google/flan-t5-large\"\n",
        "    prompt = \"Provide a brief explanation the interpretation of the key emotional aspects and tone: \"\n",
        "\n",
        "    aspect_generator = AspectGeneration(model_name=model_name, batch_size= batch_size, texts=texts, prompt=prompt)\n",
        "    augmented_texts = aspect_generator()\n",
        "\n",
        "    save_path=\"/content/sentiment_analysis/twitter_train_corpus.csv\"\n",
        "    # Generate augmented texts and create dataset\n",
        "    augmented_texts, dataset, df = aspect_generator(labels=labels, save_path= save_path )\n",
        "\n",
        "    # Print results\n",
        "    print(\"Augmented Texts:\")\n",
        "    [print(text) for text in augmented_texts[:5]]\n",
        "\n",
        "    print(\"\\nHugging Face Dataset:\")\n",
        "    print(dataset)\n",
        "\n",
        "    print(\"\\nPandas DataFrame:\")\n",
        "    print(df.info())"
      ]
    },
    {
      "cell_type": "code",
      "source": [],
      "metadata": {
        "id": "cr3wgi21G7qM"
      },
      "execution_count": null,
      "outputs": []
    }
  ],
  "metadata": {
    "colab": {
      "provenance": [],
      "gpuType": "T4",
      "include_colab_link": true
    },
    "kernelspec": {
      "display_name": "Python 3",
      "name": "python3"
    },
    "language_info": {
      "name": "python"
    },
    "accelerator": "GPU"
  },
  "nbformat": 4,
  "nbformat_minor": 0
}